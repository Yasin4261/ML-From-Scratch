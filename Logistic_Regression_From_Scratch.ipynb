{
  "nbformat": 4,
  "nbformat_minor": 0,
  "metadata": {
    "colab": {
      "provenance": []
    },
    "kernelspec": {
      "name": "python3",
      "display_name": "Python 3"
    },
    "language_info": {
      "name": "python"
    }
  },
  "cells": [
    {
      "cell_type": "code",
      "source": [
        "import numpy as np"
      ],
      "metadata": {
        "id": "OaHVmW13kv2Y"
      },
      "execution_count": 1,
      "outputs": []
    },
    {
      "cell_type": "code",
      "source": [
        "def sigmoid(x):\n",
        "  result = 1/(1+np.exp(-x))\n",
        "  return result"
      ],
      "metadata": {
        "id": "D5LwsF6Il0C1"
      },
      "execution_count": 2,
      "outputs": []
    },
    {
      "cell_type": "code",
      "source": [
        "class LogisticRegression():\n",
        "  def __init__(self, lr=0.001, n_iters=1000):\n",
        "    self.lr = lr\n",
        "    self.n_iters = n_iters\n",
        "    self.weights = None\n",
        "    self.bias = None\n",
        "\n",
        "\n",
        "  def fit(self, X, y):\n",
        "    n_samples, n_features = X.shape\n",
        "    self.weights = np.zeros(n_features)\n",
        "    self.bias = 0\n",
        "\n",
        "    for _ in range(self.n_iters):\n",
        "      linear_pred = np.dot(X, self.weights) + self.bias\n",
        "      predictions = sigmoid(linear_pred)\n",
        "\n",
        "      dw = (1/n_samples) * np.dot(X.T, (predictions - y))\n",
        "      db = (1/n_samples) * np.sum(predictions-y)\n",
        "\n",
        "      self.weights = self.weights - self.lr * dw\n",
        "      self.bias = self.bias - self.lr * db\n",
        "\n",
        "  \n",
        "  def predict(self, X):\n",
        "    linear_pred = np.dot(X, self.weights) + self.bias\n",
        "    y_pred = sigmoid(linear_pred)\n",
        "    class_pred = [0 if y<0.5 else 1 for y in y_pred]\n",
        "    return class_pred\n"
      ],
      "metadata": {
        "id": "8AaLJ9iYjMRd"
      },
      "execution_count": 7,
      "outputs": []
    },
    {
      "cell_type": "code",
      "source": [
        "from sklearn.model_selection import train_test_split\n",
        "from sklearn import datasets\n",
        "import matplotlib.pyplot as plt\n",
        "\n",
        "bc = datasets.load_breast_cancer()\n",
        "X, y = bc.data, bc.target\n",
        "X_train, X_test, y_train, y_test = train_test_split(X, y, test_size=0.2, random_state=1234)\n",
        "\n",
        "clf = LogisticRegression(lr=0.1)\n",
        "clf.fit(X_train, y_train)\n",
        "y_pred = clf.predict(X_test)\n",
        "\n",
        "def accuracy(y_pred, y_test):\n",
        "  accuracy = np.sum(y_pred == y_test)/len(y_test)\n",
        "  return accuracy\n",
        "\n",
        "acc = accuracy(y_pred, y_test)\n",
        "print(acc)"
      ],
      "metadata": {
        "colab": {
          "base_uri": "https://localhost:8080/"
        },
        "id": "mdPoJDMomDWk",
        "outputId": "9fcd416a-f8de-4867-ec1c-9b69654364ce"
      },
      "execution_count": 12,
      "outputs": [
        {
          "output_type": "stream",
          "name": "stdout",
          "text": [
            "0.9210526315789473\n"
          ]
        },
        {
          "output_type": "stream",
          "name": "stderr",
          "text": [
            "<ipython-input-2-aac242467ef9>:2: RuntimeWarning: overflow encountered in exp\n",
            "  result = 1/(1+np.exp(-x))\n"
          ]
        }
      ]
    }
  ]
}